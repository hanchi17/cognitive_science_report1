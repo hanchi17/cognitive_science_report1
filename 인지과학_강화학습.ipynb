{
  "cells": [
    {
      "cell_type": "markdown",
      "metadata": {
        "id": "view-in-github",
        "colab_type": "text"
      },
      "source": [
        "<a href=\"https://colab.research.google.com/github/hanchi17/cognitive_science_report1/blob/main/%EC%9D%B8%EC%A7%80%EA%B3%BC%ED%95%99_%EA%B0%95%ED%99%94%ED%95%99%EC%8A%B5.ipynb\" target=\"_parent\"><img src=\"https://colab.research.google.com/assets/colab-badge.svg\" alt=\"Open In Colab\"/></a>"
      ]
    },
    {
      "cell_type": "code",
      "execution_count": 31,
      "metadata": {
        "colab": {
          "base_uri": "https://localhost:8080/"
        },
        "id": "I8uYFJCNENM5",
        "outputId": "31dd074d-c276-4d1f-ddec-e7b839e902c9"
      },
      "outputs": [
        {
          "output_type": "stream",
          "name": "stdout",
          "text": [
            "Using matplotlib backend: agg\n",
            "2023-05-30 05:13:14.765512: W tensorflow/compiler/tf2tensorrt/utils/py_utils.cc:38] TF-TRT Warning: Could not find TensorRT\n",
            "2023-05-30 05:13:17.424146: W tensorflow/core/common_runtime/gpu/gpu_bfc_allocator.cc:47] Overriding orig_value setting because the TF_FORCE_GPU_ALLOW_GROWTH environment variable is set. Original config value was 0.\n",
            "트레이닝을 시작합니다.\n",
            "/content/Chap_12_Reinforced_Learning_Training.py:168: DeprecationWarning: `np.bool` is a deprecated alias for the builtin `bool`. To silence this warning, use `bool` by itself. Doing this will not modify any behavior and is safe. If you specifically wanted the numpy scalar type, use `np.bool_` here.\n",
            "Deprecated in NumPy 1.20; for more details and guidance: https://numpy.org/devdocs/release/1.20.0-notes.html#deprecations\n",
            "  self.gameOver = np.empty(self.maxMemory, dtype = np.bool)\n",
            "WARNING:tensorflow:5 out of the last 5 calls to <function _BaseOptimizer._update_step_xla at 0x7f8673730280> triggered tf.function retracing. Tracing is expensive and the excessive number of tracings could be due to (1) creating @tf.function repeatedly in a loop, (2) passing tensors with different shapes, (3) passing Python objects instead of tensors. For (1), please define your @tf.function outside of the loop. For (2), @tf.function has reduce_retracing=True option that can avoid unnecessary retracing. For (3), please refer to https://www.tensorflow.org/guide/function#controlling_retracing and https://www.tensorflow.org/api_docs/python/tf/function for  more details.\n",
            "W0530 05:13:18.623121 140217300219712 polymorphic_function.py:156] 5 out of the last 5 calls to <function _BaseOptimizer._update_step_xla at 0x7f8673730280> triggered tf.function retracing. Tracing is expensive and the excessive number of tracings could be due to (1) creating @tf.function repeatedly in a loop, (2) passing tensors with different shapes, (3) passing Python objects instead of tensors. For (1), please define your @tf.function outside of the loop. For (2), @tf.function has reduce_retracing=True option that can avoid unnecessary retracing. For (3), please refer to https://www.tensorflow.org/guide/function#controlling_retracing and https://www.tensorflow.org/api_docs/python/tf/function for  more details.\n",
            "WARNING:tensorflow:6 out of the last 6 calls to <function _BaseOptimizer._update_step_xla at 0x7f8673730280> triggered tf.function retracing. Tracing is expensive and the excessive number of tracings could be due to (1) creating @tf.function repeatedly in a loop, (2) passing tensors with different shapes, (3) passing Python objects instead of tensors. For (1), please define your @tf.function outside of the loop. For (2), @tf.function has reduce_retracing=True option that can avoid unnecessary retracing. For (3), please refer to https://www.tensorflow.org/guide/function#controlling_retracing and https://www.tensorflow.org/api_docs/python/tf/function for  more details.\n",
            "W0530 05:13:18.694227 140217300219712 polymorphic_function.py:156] 6 out of the last 6 calls to <function _BaseOptimizer._update_step_xla at 0x7f8673730280> triggered tf.function retracing. Tracing is expensive and the excessive number of tracings could be due to (1) creating @tf.function repeatedly in a loop, (2) passing tensors with different shapes, (3) passing Python objects instead of tensors. For (1), please define your @tf.function outside of the loop. For (2), @tf.function has reduce_retracing=True option that can avoid unnecessary retracing. For (3), please refer to https://www.tensorflow.org/guide/function#controlling_retracing and https://www.tensorflow.org/api_docs/python/tf/function for  more details.\n",
            "반복(Epoch): 0, 에러(err): 0.0199, 승리횟수(Win count): 0, 승리비율(Win ratio): 0.0000\n",
            "반복(Epoch): 1, 에러(err): 0.0875, 승리횟수(Win count): 0, 승리비율(Win ratio): 0.0000\n",
            "반복(Epoch): 2, 에러(err): 0.0959, 승리횟수(Win count): 0, 승리비율(Win ratio): 0.0000\n",
            "반복(Epoch): 3, 에러(err): 0.2833, 승리횟수(Win count): 1, 승리비율(Win ratio): 25.0000\n",
            "반복(Epoch): 4, 에러(err): 0.2804, 승리횟수(Win count): 1, 승리비율(Win ratio): 20.0000\n",
            "반복(Epoch): 5, 에러(err): 0.2962, 승리횟수(Win count): 1, 승리비율(Win ratio): 16.6667\n",
            "반복(Epoch): 6, 에러(err): 0.4688, 승리횟수(Win count): 2, 승리비율(Win ratio): 28.5714\n",
            "반복(Epoch): 7, 에러(err): 0.3320, 승리횟수(Win count): 2, 승리비율(Win ratio): 25.0000\n",
            "반복(Epoch): 8, 에러(err): 0.3447, 승리횟수(Win count): 3, 승리비율(Win ratio): 33.3333\n",
            "반복(Epoch): 9, 에러(err): 0.4032, 승리횟수(Win count): 3, 승리비율(Win ratio): 30.0000\n",
            "반복(Epoch): 10, 에러(err): 0.3160, 승리횟수(Win count): 4, 승리비율(Win ratio): 36.3636\n",
            "트레이닝 완료\n",
            "/content/model.ckpt-10 경로에 파라미터가 저장되었습니다\n"
          ]
        }
      ],
      "source": [
        "%matplotlib\n",
        "%matplotlib inline\n",
        "import os\n",
        "os.chdir('/content')\n",
        "\n",
        "!python Chap_12_Reinforced_Learning_Training.py"
      ]
    },
    {
      "cell_type": "code",
      "execution_count": 32,
      "metadata": {
        "id": "qtZZvrNbQlDT"
      },
      "outputs": [],
      "source": [
        "from Chap_12_Reinforced_Learning_Training import CatchEnvironment, DQN\n",
        "from IPython import display\n",
        "import matplotlib.patches as patches\n",
        "import pylab as pl\n",
        "import time\n",
        "import tensorflow as tf\n",
        "import os"
      ]
    },
    {
      "cell_type": "code",
      "execution_count": 33,
      "metadata": {
        "id": "zQjQARPGQpzU"
      },
      "outputs": [],
      "source": [
        "# 설정값들을 정의합니다.\n",
        "gridSize = 10\n",
        "maxGames = 30\n",
        "DQN_model = DQN()\n",
        "env = CatchEnvironment(gridSize)\n",
        "winCount = 0\n",
        "loseCount = 0\n",
        "numberOfGames = 0"
      ]
    },
    {
      "cell_type": "code",
      "execution_count": 34,
      "metadata": {
        "id": "zkxqMYv2QtsK"
      },
      "outputs": [],
      "source": [
        "# 현재 상태를 그리기 위한 drawState 함수를 정의합니다.\n",
        "def drawState(fruitRow, fruitColumn, basket, gridSize):\n",
        "  # 과일이 몇번째 세로축에 있는지 정의합니다.\n",
        "  fruitX = fruitColumn \n",
        "  # 과일이 몇번째 가로축에 있는지 정의합니다.\n",
        "  fruitY = (gridSize - fruitRow + 1)\n",
        "  # 승리 횟수, 패배 횟수, 전체 게임 횟수를 화면 상단에 출력합니다.\n",
        "  statusTitle = \"Wins: \" + str(winCount) + \"  Losses: \" + str(loseCount) + \"  TotalGame: \" + str(numberOfGames)\n",
        "  axis.set_title(statusTitle, fontsize=30)\n",
        "  for p in [\n",
        "    # 배경의 위치를 지정합니다.\n",
        "    patches.Rectangle(\n",
        "        ((ground - 1), (ground)), 11, 10,\n",
        "        facecolor=\"#000000\"      # Black\n",
        "    ),\n",
        "    # 바구니의 위치를 지정합니다.\n",
        "    patches.Rectangle(\n",
        "        (basket - 1, ground), 2, 0.5,\n",
        "        facecolor=\"#FF0000\"     # Red\n",
        "    ),\n",
        "    # 과일의 위치를 지정합니다.\n",
        "    patches.Rectangle(\n",
        "        (fruitX - 0.5, fruitY - 0.5), 1, 1,\n",
        "        facecolor=\"#0000FF\"       # Blue\n",
        "    ),   \n",
        "    ]:\n",
        "      axis.add_patch(p)\n",
        "  display.clear_output(wait=True)\n",
        "  display.display(pl.gcf())"
      ]
    },
    {
      "cell_type": "code",
      "execution_count": 35,
      "metadata": {
        "colab": {
          "base_uri": "https://localhost:8080/"
        },
        "id": "PqKdww4SQw0m",
        "outputId": "e198319c-65df-4d6b-916a-c57ae67bf5de"
      },
      "outputs": [
        {
          "output_type": "stream",
          "name": "stdout",
          "text": [
            "저장된 파라미터를 불러왔습니다!\n"
          ]
        }
      ],
      "source": [
        "# 저장된 파라미터를 불러옵니다.\n",
        "ckpt = tf.train.Checkpoint(model=DQN_model)\n",
        "latest_ckpt = tf.train.latest_checkpoint(os.getcwd())\n",
        "#latest_ckpt = '/content/model.ckpt-201'\n",
        "\n",
        "ckpt.restore(latest_ckpt)\n",
        "\n",
        "print('저장된 파라미터를 불러왔습니다!')"
      ]
    },
    {
      "cell_type": "code",
      "execution_count": 36,
      "metadata": {
        "colab": {
          "base_uri": "https://localhost:8080/"
        },
        "id": "dn7fVg8WQ0C8",
        "outputId": "c967d335-564a-4ef6-ea28-90b2897bdc7c"
      },
      "outputs": [
        {
          "output_type": "stream",
          "name": "stdout",
          "text": [
            "Looking in indexes: https://pypi.org/simple, https://us-python.pkg.dev/colab-wheels/public/simple/\n",
            "Requirement already satisfied: imageio in /usr/local/lib/python3.10/dist-packages (2.25.1)\n",
            "Requirement already satisfied: numpy in /usr/local/lib/python3.10/dist-packages (from imageio) (1.22.4)\n",
            "Requirement already satisfied: pillow>=8.3.2 in /usr/local/lib/python3.10/dist-packages (from imageio) (8.4.0)\n",
            "mkdir: cannot create directory ‘/content/generated_output/’: File exists\n"
          ]
        }
      ],
      "source": [
        "# GIF를 만들기위해 설치합니다.\n",
        "!pip install imageio\n",
        "\n",
        "!mkdir '/content/generated_output/'\n",
        "\n",
        "import glob\n",
        "import imageio\n",
        "import matplotlib.pyplot as plt\n",
        "import PIL\n",
        "\n",
        "def display_image(epoch_no):\n",
        "  return PIL.Image.open('/content/generated_output/image_at_epoch_{:04d}.png'.format(epoch_no))"
      ]
    },
    {
      "cell_type": "code",
      "execution_count": 37,
      "metadata": {
        "colab": {
          "base_uri": "https://localhost:8080/",
          "height": 961
        },
        "id": "4AE8mP_sQ7PW",
        "outputId": "ad3dd80c-dd9d-4eb7-e7fe-d5d1922d6b48"
      },
      "outputs": [
        {
          "output_type": "display_data",
          "data": {
            "text/plain": [
              "<Figure size 1200x1200 with 1 Axes>"
            ],
            "image/png": "[encoded data removed]"
          },
          "metadata": {}
        }
      ],
      "source": [
        "# 화면을 그리기 위한 설정들을 정의합니다.\n",
        "ground = 1\n",
        "plot = pl.figure(figsize=(12,12))\n",
        "axis = plot.add_subplot(111, aspect='equal')\n",
        "axis.set_xlim([-1, 12])\n",
        "axis.set_ylim([0, 12])\n",
        "\n",
        "frame = 1\n",
        "\n",
        "# maxGames 횟수만큼 게임을 플레이합니다.\n",
        "while (numberOfGames < maxGames):\n",
        "  numberOfGames = numberOfGames + 1\n",
        "\n",
        "  # 최초의 상태를 정의합니다.\n",
        "  isGameOver = False\n",
        "  fruitRow, fruitColumn, basket = env.reset()\n",
        "  currentState = env.observe()\n",
        "  drawState(fruitRow, fruitColumn, basket, gridSize)\n",
        "\n",
        "  while (isGameOver != True):\n",
        "    # 현재 상태를 DQN의 입력값으로 넣고 구한 Q값중 가장 큰 Q값을 갖는 행동을 취합니다.\n",
        "    q = DQN_model(currentState).numpy()\n",
        "    action = q.argmax()\n",
        "\n",
        "    # 행동을 취하고 다음 상태로 넘어갑니다.\n",
        "    nextState, reward, gameOver, stateInfo = env.act(action)    \n",
        "    fruitRow = stateInfo[0]\n",
        "    fruitColumn = stateInfo[1]\n",
        "    basket = stateInfo[2]\n",
        "     \n",
        "    # 과일을 받아내면 winCount를 1 늘리고 과일을 받아내지 못하면 loseCount를 1 늘립니다.\n",
        "    if (reward == 1):\n",
        "      winCount = winCount + 1\n",
        "    elif (reward == -1):\n",
        "      loseCount = loseCount + 1\n",
        "\n",
        "    currentState = nextState\n",
        "    isGameOver = gameOver\n",
        "    drawState(fruitRow, fruitColumn, basket, gridSize)\n",
        "    # 다음 행동을 취하기 전에 0.05초의 일시정지를 줍니다.\n",
        "#    time.sleep(5)\n",
        "    plt.savefig('/content/generated_output/image_at_frame_{:04d}.png'.format(frame))\n",
        "    frame = frame+1\n",
        "\n",
        "# 최종 출력결과 이미지를 하나로 정리합니다.\n",
        "display.clear_output(wait=True)"
      ]
    },
    {
      "cell_type": "code",
      "source": [
        "anim_file = '/content/generated_output/dcgan.gif'\n",
        "\n",
        "with imageio.get_writer(anim_file, mode='I') as writer:\n",
        "  filenames = glob.glob('/content/generated_output/image*.png')\n",
        "  filenames = sorted(filenames)\n",
        "  last = -1\n",
        "  for i,filename in enumerate(filenames):\n",
        "    frame = 2*(i**0.5)\n",
        "    if round(frame) > round(last):\n",
        "      last = frame\n",
        "    else:\n",
        "      continue\n",
        "    image = imageio.imread(filename)\n",
        "    writer.append_data(image)\n",
        "  image = imageio.imread(filename)\n",
        "  writer.append_data(image)\n",
        "\n",
        "import IPython\n",
        "if IPython.version_info > (6,2,0,''):\n",
        "  display.Image(filename=anim_file)"
      ],
      "metadata": {
        "id": "3xKznLLGvRst",
        "colab": {
          "base_uri": "https://localhost:8080/"
        },
        "outputId": "9553b88f-a4a6-4b8a-e691-fc70b9b27e6a"
      },
      "execution_count": 38,
      "outputs": [
        {
          "output_type": "stream",
          "name": "stderr",
          "text": [
            "<ipython-input-38-b2b7cd20ce6a>:13: DeprecationWarning: Starting with ImageIO v3 the behavior of this function will switch to that of iio.v3.imread. To keep the current behavior (and make this warning disappear) use `import imageio.v2 as imageio` or call `imageio.v2.imread` directly.\n",
            "  image = imageio.imread(filename)\n",
            "<ipython-input-38-b2b7cd20ce6a>:15: DeprecationWarning: Starting with ImageIO v3 the behavior of this function will switch to that of iio.v3.imread. To keep the current behavior (and make this warning disappear) use `import imageio.v2 as imageio` or call `imageio.v2.imread` directly.\n",
            "  image = imageio.imread(filename)\n"
          ]
        }
      ]
    },
    {
      "cell_type": "code",
      "source": [
        "from google.colab import files\n",
        "\n",
        "files.download(anim_file)\n",
        "!zip -r /content/file.zip /content/generated_output\n",
        "files.download(\"/content/file.zip\")"
      ],
      "metadata": {
        "colab": {
          "base_uri": "https://localhost:8080/",
          "height": 1000
        },
        "id": "Jn5L5ygLxDSD",
        "outputId": "e29946a6-bce2-4538-97aa-15d418ca99a6"
      },
      "execution_count": 39,
      "outputs": [
        {
          "output_type": "display_data",
          "data": {
            "text/plain": [
              "<IPython.core.display.Javascript object>"
            ],
            "application/javascript": [
              "\n",
              "    async function download(id, filename, size) {\n",
              "      if (!google.colab.kernel.accessAllowed) {\n",
              "        return;\n",
              "      }\n",
              "      const div = document.createElement('div');\n",
              "      const label = document.createElement('label');\n",
              "      label.textContent = `Downloading \"${filename}\": `;\n",
              "      div.appendChild(label);\n",
              "      const progress = document.createElement('progress');\n",
              "      progress.max = size;\n",
              "      div.appendChild(progress);\n",
              "      document.body.appendChild(div);\n",
              "\n",
              "      const buffers = [];\n",
              "      let downloaded = 0;\n",
              "\n",
              "      const channel = await google.colab.kernel.comms.open(id);\n",
              "      // Send a message to notify the kernel that we're ready.\n",
              "      channel.send({})\n",
              "\n",
              "      for await (const message of channel.messages) {\n",
              "        // Send a message to notify the kernel that we're ready.\n",
              "        channel.send({})\n",
              "        if (message.buffers) {\n",
              "          for (const buffer of message.buffers) {\n",
              "            buffers.push(buffer);\n",
              "            downloaded += buffer.byteLength;\n",
              "            progress.value = downloaded;\n",
              "          }\n",
              "        }\n",
              "      }\n",
              "      const blob = new Blob(buffers, {type: 'application/binary'});\n",
              "      const a = document.createElement('a');\n",
              "      a.href = window.URL.createObjectURL(blob);\n",
              "      a.download = filename;\n",
              "      div.appendChild(a);\n",
              "      a.click();\n",
              "      div.remove();\n",
              "    }\n",
              "  "
            ]
          },
          "metadata": {}
        },
        {
          "output_type": "display_data",
          "data": {
            "text/plain": [
              "<IPython.core.display.Javascript object>"
            ],
            "application/javascript": [
              "download(\"download_93e0ce67-1fdd-4cb1-bf14-b7dbbb704043\", \"dcgan.gif\", 573073)"
            ]
          },
          "metadata": {}
        },
        {
          "output_type": "stream",
          "name": "stdout",
          "text": [
            "updating: content/generated_output/ (stored 0%)\n",
            "updating: content/generated_output/image_at_frame_0028.png (deflated 37%)\n",
            "updating: content/generated_output/image_at_frame_0015.png (deflated 36%)\n",
            "updating: content/generated_output/image_at_frame_0031.png (deflated 37%)\n",
            "updating: content/generated_output/image_at_frame_0119.png (deflated 36%)\n",
            "updating: content/generated_output/image_at_frame_0036.png (deflated 36%)\n",
            "updating: content/generated_output/image_at_frame_0129.png (deflated 37%)\n",
            "updating: content/generated_output/image_at_frame_0140.png (deflated 36%)\n",
            "updating: content/generated_output/image_at_frame_0027.png (deflated 37%)\n",
            "updating: content/generated_output/image_at_frame_0131.png (deflated 37%)\n",
            "updating: content/generated_output/image_at_frame_0122.png (deflated 37%)\n",
            "updating: content/generated_output/image_at_frame_0042.png (deflated 36%)\n",
            "updating: content/generated_output/image_at_frame_0096.png (deflated 37%)\n",
            "updating: content/generated_output/image_at_frame_0056.png (deflated 37%)\n",
            "updating: content/generated_output/image_at_frame_0072.png (deflated 37%)\n",
            "updating: content/generated_output/image_at_frame_0159.png (deflated 35%)\n",
            "updating: content/generated_output/image_at_frame_0083.png (deflated 37%)\n",
            "updating: content/generated_output/image_at_frame_0136.png (deflated 37%)\n",
            "updating: content/generated_output/image_at_frame_0022.png (deflated 38%)\n",
            "updating: content/generated_output/image_at_frame_0176.png (deflated 36%)\n",
            "updating: content/generated_output/image_at_frame_0059.png (deflated 37%)\n",
            "updating: content/generated_output/image_at_frame_0150.png (deflated 36%)\n",
            "updating: content/generated_output/image_at_frame_0182.png (deflated 36%)\n",
            "updating: content/generated_output/image_at_frame_0203.png (deflated 35%)\n",
            "updating: content/generated_output/image_at_frame_0126.png (deflated 37%)\n",
            "updating: content/generated_output/image_at_frame_0013.png (deflated 36%)\n",
            "updating: content/generated_output/image_at_frame_0127.png (deflated 36%)\n",
            "updating: content/generated_output/image_at_frame_0046.png (deflated 36%)\n",
            "updating: content/generated_output/image_at_frame_0222.png (deflated 36%)\n",
            "updating: content/generated_output/image_at_frame_0064.png (deflated 37%)\n",
            "updating: content/generated_output/image_at_frame_0133.png (deflated 37%)\n",
            "updating: content/generated_output/image_at_frame_0227.png (deflated 35%)\n",
            "updating: content/generated_output/image_at_frame_0039.png (deflated 36%)\n",
            "updating: content/generated_output/image_at_frame_0197.png (deflated 35%)\n",
            "updating: content/generated_output/image_at_frame_0071.png (deflated 37%)\n",
            "updating: content/generated_output/image_at_frame_0125.png (deflated 36%)\n",
            "updating: content/generated_output/image_at_frame_0100.png (deflated 36%)\n",
            "updating: content/generated_output/image_at_frame_0043.png (deflated 36%)\n",
            "updating: content/generated_output/image_at_frame_0113.png (deflated 36%)\n",
            "updating: content/generated_output/image_at_frame_0214.png (deflated 35%)\n",
            "updating: content/generated_output/image_at_frame_0169.png (deflated 35%)\n",
            "updating: content/generated_output/image_at_frame_0107.png (deflated 37%)\n",
            "updating: content/generated_output/image_at_frame_0102.png (deflated 36%)\n",
            "updating: content/generated_output/image_at_frame_0137.png (deflated 36%)\n",
            "updating: content/generated_output/image_at_frame_0199.png (deflated 35%)\n",
            "updating: content/generated_output/image_at_frame_0196.png (deflated 36%)\n",
            "updating: content/generated_output/image_at_frame_0079.png (deflated 37%)\n",
            "updating: content/generated_output/image_at_frame_0151.png (deflated 36%)\n",
            "updating: content/generated_output/image_at_frame_0110.png (deflated 37%)\n",
            "updating: content/generated_output/image_at_frame_0141.png (deflated 36%)\n",
            "updating: content/generated_output/image_at_frame_0193.png (deflated 35%)\n",
            "updating: content/generated_output/image_at_frame_0051.png (deflated 37%)\n",
            "updating: content/generated_output/image_at_frame_0115.png (deflated 37%)\n",
            "updating: content/generated_output/image_at_frame_0097.png (deflated 37%)\n",
            "updating: content/generated_output/image_at_frame_0121.png (deflated 37%)\n",
            "updating: content/generated_output/image_at_frame_0158.png (deflated 36%)\n",
            "updating: content/generated_output/image_at_frame_0058.png (deflated 37%)\n",
            "updating: content/generated_output/image_at_frame_0234.png (deflated 34%)\n",
            "updating: content/generated_output/image_at_frame_0063.png (deflated 37%)\n",
            "updating: content/generated_output/image_at_frame_0215.png (deflated 35%)\n",
            "updating: content/generated_output/image_at_frame_0016.png (deflated 38%)\n",
            "updating: content/generated_output/image_at_frame_0228.png (deflated 34%)\n",
            "updating: content/generated_output/image_at_frame_0106.png (deflated 37%)\n",
            "updating: content/generated_output/image_at_frame_0204.png (deflated 35%)\n",
            "updating: content/generated_output/image_at_frame_0194.png (deflated 36%)\n",
            "updating: content/generated_output/image_at_frame_0239.png (deflated 34%)\n",
            "updating: content/generated_output/image_at_frame_0200.png (deflated 36%)\n",
            "updating: content/generated_output/image_at_frame_0026.png (deflated 37%)\n",
            "updating: content/generated_output/image_at_frame_0218.png (deflated 36%)\n",
            "updating: content/generated_output/image_at_frame_0099.png (deflated 36%)\n",
            "updating: content/generated_output/image_at_frame_0108.png (deflated 36%)\n",
            "updating: content/generated_output/image_at_frame_0098.png (deflated 36%)\n",
            "updating: content/generated_output/image_at_frame_0095.png (deflated 37%)\n",
            "updating: content/generated_output/image_at_frame_0070.png (deflated 37%)\n",
            "updating: content/generated_output/image_at_frame_0237.png (deflated 34%)\n",
            "updating: content/generated_output/image_at_frame_0225.png (deflated 35%)\n",
            "updating: content/generated_output/image_at_frame_0224.png (deflated 35%)\n",
            "updating: content/generated_output/image_at_frame_0065.png (deflated 37%)\n",
            "updating: content/generated_output/image_at_frame_0212.png (deflated 35%)\n",
            "updating: content/generated_output/image_at_frame_0233.png (deflated 34%)\n",
            "updating: content/generated_output/image_at_frame_0105.png (deflated 37%)\n",
            "updating: content/generated_output/image_at_frame_0005.png (deflated 37%)\n",
            "updating: content/generated_output/image_at_frame_0220.png (deflated 35%)\n",
            "updating: content/generated_output/image_at_frame_0112.png (deflated 36%)\n",
            "updating: content/generated_output/image_at_frame_0103.png (deflated 37%)\n",
            "updating: content/generated_output/image_at_frame_0139.png (deflated 36%)\n",
            "updating: content/generated_output/image_at_frame_0080.png (deflated 36%)\n",
            "updating: content/generated_output/image_at_frame_0060.png (deflated 37%)\n",
            "updating: content/generated_output/image_at_frame_0135.png (deflated 37%)\n",
            "updating: content/generated_output/image_at_frame_0068.png (deflated 37%)\n",
            "updating: content/generated_output/image_at_frame_0117.png (deflated 36%)\n",
            "updating: content/generated_output/image_at_frame_0094.png (deflated 37%)\n",
            "updating: content/generated_output/image_at_frame_0062.png (deflated 37%)\n",
            "updating: content/generated_output/image_at_frame_0145.png (deflated 36%)\n",
            "updating: content/generated_output/image_at_frame_0053.png (deflated 37%)\n",
            "updating: content/generated_output/image_at_frame_0057.png (deflated 37%)\n",
            "updating: content/generated_output/image_at_frame_0154.png (deflated 36%)\n",
            "updating: content/generated_output/image_at_frame_0198.png (deflated 36%)\n",
            "updating: content/generated_output/image_at_frame_0008.png (deflated 37%)\n",
            "updating: content/generated_output/image_at_frame_0104.png (deflated 36%)\n",
            "updating: content/generated_output/image_at_frame_0138.png (deflated 36%)\n",
            "updating: content/generated_output/image_at_frame_0033.png (deflated 36%)\n",
            "updating: content/generated_output/image_at_frame_0124.png (deflated 37%)\n",
            "updating: content/generated_output/image_at_frame_0206.png (deflated 35%)\n",
            "updating: content/generated_output/image_at_frame_0157.png (deflated 35%)\n",
            "updating: content/generated_output/dcgan.gif (deflated 20%)\n",
            "updating: content/generated_output/image_at_frame_0073.png (deflated 36%)\n",
            "updating: content/generated_output/image_at_frame_0003.png (deflated 37%)\n",
            "updating: content/generated_output/image_at_frame_0032.png (deflated 36%)\n",
            "updating: content/generated_output/image_at_frame_0086.png (deflated 36%)\n",
            "updating: content/generated_output/image_at_frame_0077.png (deflated 37%)\n",
            "updating: content/generated_output/image_at_frame_0238.png (deflated 34%)\n",
            "updating: content/generated_output/image_at_frame_0168.png (deflated 36%)\n",
            "updating: content/generated_output/image_at_frame_0209.png (deflated 35%)\n",
            "updating: content/generated_output/image_at_frame_0210.png (deflated 35%)\n",
            "updating: content/generated_output/image_at_frame_0055.png (deflated 37%)\n",
            "updating: content/generated_output/image_at_frame_0052.png (deflated 37%)\n",
            "updating: content/generated_output/image_at_frame_0226.png (deflated 35%)\n",
            "updating: content/generated_output/image_at_frame_0240.png (deflated 34%)\n",
            "updating: content/generated_output/image_at_frame_0221.png (deflated 36%)\n",
            "updating: content/generated_output/image_at_frame_0084.png (deflated 37%)\n",
            "updating: content/generated_output/image_at_frame_0164.png (deflated 37%)\n",
            "updating: content/generated_output/image_at_frame_0144.png (deflated 36%)\n",
            "updating: content/generated_output/image_at_frame_0236.png (deflated 34%)\n",
            "updating: content/generated_output/image_at_frame_0123.png (deflated 37%)\n",
            "updating: content/generated_output/image_at_frame_0090.png (deflated 37%)\n",
            "updating: content/generated_output/image_at_frame_0017.png (deflated 38%)\n",
            "updating: content/generated_output/image_at_frame_0189.png (deflated 36%)\n",
            "updating: content/generated_output/image_at_frame_0167.png (deflated 37%)\n",
            "updating: content/generated_output/image_at_frame_0006.png (deflated 37%)\n",
            "updating: content/generated_output/image_at_frame_0175.png (deflated 36%)\n",
            "updating: content/generated_output/image_at_frame_0061.png (deflated 37%)\n",
            "updating: content/generated_output/image_at_frame_0170.png (deflated 35%)\n",
            "updating: content/generated_output/image_at_frame_0002.png (deflated 37%)\n",
            "updating: content/generated_output/image_at_frame_0029.png (deflated 37%)\n",
            "updating: content/generated_output/image_at_frame_0166.png (deflated 37%)\n",
            "updating: content/generated_output/image_at_frame_0091.png (deflated 37%)\n",
            "updating: content/generated_output/image_at_frame_0012.png (deflated 37%)\n",
            "updating: content/generated_output/image_at_frame_0174.png (deflated 35%)\n",
            "updating: content/generated_output/image_at_frame_0118.png (deflated 36%)\n",
            "updating: content/generated_output/image_at_frame_0035.png (deflated 36%)\n",
            "updating: content/generated_output/image_at_frame_0007.png (deflated 37%)\n",
            "updating: content/generated_output/image_at_frame_0190.png (deflated 36%)\n",
            "updating: content/generated_output/image_at_frame_0128.png (deflated 36%)\n",
            "updating: content/generated_output/image_at_frame_0038.png (deflated 36%)\n",
            "updating: content/generated_output/image_at_frame_0087.png (deflated 37%)\n",
            "updating: content/generated_output/image_at_frame_0069.png (deflated 37%)\n",
            "updating: content/generated_output/image_at_frame_0066.png (deflated 37%)\n",
            "updating: content/generated_output/image_at_frame_0161.png (deflated 37%)\n",
            "updating: content/generated_output/image_at_frame_0019.png (deflated 37%)\n",
            "updating: content/generated_output/image_at_frame_0089.png (deflated 37%)\n",
            "updating: content/generated_output/image_at_frame_0185.png (deflated 36%)\n",
            "updating: content/generated_output/image_at_frame_0049.png (deflated 37%)\n",
            "updating: content/generated_output/image_at_frame_0179.png (deflated 36%)\n",
            "updating: content/generated_output/image_at_frame_0192.png (deflated 36%)\n",
            "updating: content/generated_output/image_at_frame_0030.png (deflated 37%)\n",
            "updating: content/generated_output/image_at_frame_0186.png (deflated 36%)\n",
            "updating: content/generated_output/image_at_frame_0134.png (deflated 37%)\n",
            "updating: content/generated_output/image_at_frame_0082.png (deflated 36%)\n",
            "updating: content/generated_output/image_at_frame_0074.png (deflated 36%)\n",
            "updating: content/generated_output/image_at_frame_0231.png (deflated 35%)\n",
            "updating: content/generated_output/image_at_frame_0054.png (deflated 37%)\n",
            "updating: content/generated_output/image_at_frame_0172.png (deflated 35%)\n",
            "updating: content/generated_output/image_at_frame_0230.png (deflated 34%)\n",
            "updating: content/generated_output/image_at_frame_0149.png (deflated 36%)\n",
            "updating: content/generated_output/image_at_frame_0208.png (deflated 35%)\n",
            "updating: content/generated_output/image_at_frame_0232.png (deflated 34%)\n",
            "updating: content/generated_output/image_at_frame_0147.png (deflated 36%)\n",
            "updating: content/generated_output/image_at_frame_0184.png (deflated 35%)\n",
            "updating: content/generated_output/image_at_frame_0207.png (deflated 35%)\n",
            "updating: content/generated_output/image_at_frame_0171.png (deflated 35%)\n",
            "updating: content/generated_output/image_at_frame_0010.png (deflated 37%)\n",
            "updating: content/generated_output/image_at_frame_0195.png (deflated 36%)\n",
            "updating: content/generated_output/image_at_frame_0034.png (deflated 36%)\n",
            "updating: content/generated_output/image_at_frame_0114.png (deflated 36%)\n",
            "updating: content/generated_output/image_at_frame_0085.png (deflated 37%)\n",
            "updating: content/generated_output/image_at_frame_0021.png (deflated 38%)\n",
            "updating: content/generated_output/image_at_frame_0111.png (deflated 37%)\n",
            "updating: content/generated_output/image_at_frame_0088.png (deflated 37%)\n",
            "updating: content/generated_output/image_at_frame_0024.png (deflated 36%)\n",
            "updating: content/generated_output/image_at_frame_0045.png (deflated 36%)\n",
            "updating: content/generated_output/image_at_frame_0130.png (deflated 37%)\n",
            "updating: content/generated_output/image_at_frame_0146.png (deflated 36%)\n",
            "updating: content/generated_output/image_at_frame_0025.png (deflated 37%)\n",
            "updating: content/generated_output/image_at_frame_0116.png (deflated 36%)\n",
            "updating: content/generated_output/image_at_frame_0076.png (deflated 36%)\n",
            "updating: content/generated_output/image_at_frame_0092.png (deflated 37%)\n",
            "updating: content/generated_output/image_at_frame_0213.png (deflated 35%)\n",
            "updating: content/generated_output/image_at_frame_0219.png (deflated 36%)\n",
            "updating: content/generated_output/image_at_frame_0040.png (deflated 36%)\n",
            "updating: content/generated_output/image_at_frame_0009.png (deflated 37%)\n",
            "updating: content/generated_output/image_at_frame_0120.png (deflated 37%)\n",
            "updating: content/generated_output/image_at_frame_0177.png (deflated 36%)\n",
            "updating: content/generated_output/image_at_frame_0183.png (deflated 36%)\n",
            "updating: content/generated_output/image_at_frame_0148.png (deflated 36%)\n",
            "updating: content/generated_output/image_at_frame_0109.png (deflated 37%)\n",
            "updating: content/generated_output/image_at_frame_0143.png (deflated 36%)\n",
            "updating: content/generated_output/image_at_frame_0229.png (deflated 35%)\n",
            "updating: content/generated_output/image_at_frame_0037.png (deflated 36%)\n",
            "updating: content/generated_output/image_at_frame_0018.png (deflated 37%)\n",
            "updating: content/generated_output/image_at_frame_0235.png (deflated 34%)\n",
            "updating: content/generated_output/image_at_frame_0201.png (deflated 35%)\n",
            "updating: content/generated_output/image_at_frame_0078.png (deflated 37%)\n",
            "updating: content/generated_output/image_at_frame_0023.png (deflated 38%)\n",
            "updating: content/generated_output/image_at_frame_0142.png (deflated 36%)\n",
            "updating: content/generated_output/image_at_frame_0191.png (deflated 35%)\n",
            "updating: content/generated_output/image_at_frame_0075.png (deflated 37%)\n",
            "updating: content/generated_output/image_at_frame_0001.png (deflated 37%)\n",
            "updating: content/generated_output/image_at_frame_0047.png (deflated 36%)\n",
            "updating: content/generated_output/image_at_frame_0205.png (deflated 35%)\n",
            "updating: content/generated_output/image_at_frame_0156.png (deflated 36%)\n",
            "updating: content/generated_output/image_at_frame_0020.png (deflated 37%)\n",
            "updating: content/generated_output/image_at_frame_0093.png (deflated 37%)\n",
            "updating: content/generated_output/image_at_frame_0067.png (deflated 37%)\n",
            "updating: content/generated_output/image_at_frame_0180.png (deflated 35%)\n",
            "updating: content/generated_output/image_at_frame_0160.png (deflated 36%)\n",
            "updating: content/generated_output/image_at_frame_0101.png (deflated 36%)\n",
            "updating: content/generated_output/image_at_frame_0163.png (deflated 37%)\n",
            "updating: content/generated_output/image_at_frame_0165.png (deflated 37%)\n",
            "updating: content/generated_output/image_at_frame_0041.png (deflated 36%)\n",
            "updating: content/generated_output/image_at_frame_0202.png (deflated 35%)\n",
            "updating: content/generated_output/image_at_frame_0211.png (deflated 35%)\n",
            "updating: content/generated_output/image_at_frame_0153.png (deflated 36%)\n",
            "updating: content/generated_output/image_at_frame_0014.png (deflated 37%)\n",
            "updating: content/generated_output/image_at_frame_0152.png (deflated 36%)\n",
            "updating: content/generated_output/image_at_frame_0181.png (deflated 36%)\n",
            "updating: content/generated_output/image_at_frame_0011.png (deflated 37%)\n",
            "updating: content/generated_output/image_at_frame_0155.png (deflated 35%)\n",
            "updating: content/generated_output/image_at_frame_0081.png (deflated 37%)\n",
            "updating: content/generated_output/image_at_frame_0004.png (deflated 37%)\n",
            "updating: content/generated_output/image_at_frame_0048.png (deflated 37%)\n",
            "updating: content/generated_output/image_at_frame_0050.png (deflated 37%)\n",
            "updating: content/generated_output/image_at_frame_0188.png (deflated 36%)\n",
            "updating: content/generated_output/image_at_frame_0187.png (deflated 36%)\n",
            "updating: content/generated_output/image_at_frame_0162.png (deflated 37%)\n",
            "updating: content/generated_output/image_at_frame_0178.png (deflated 36%)\n",
            "updating: content/generated_output/image_at_frame_0223.png (deflated 36%)\n",
            "updating: content/generated_output/image_at_frame_0044.png (deflated 36%)\n",
            "updating: content/generated_output/image_at_frame_0217.png (deflated 35%)\n",
            "updating: content/generated_output/image_at_frame_0173.png (deflated 35%)\n",
            "updating: content/generated_output/image_at_frame_0216.png (deflated 35%)\n",
            "updating: content/generated_output/image_at_frame_0132.png (deflated 37%)\n"
          ]
        },
        {
          "output_type": "display_data",
          "data": {
            "text/plain": [
              "<IPython.core.display.Javascript object>"
            ],
            "application/javascript": [
              "\n",
              "    async function download(id, filename, size) {\n",
              "      if (!google.colab.kernel.accessAllowed) {\n",
              "        return;\n",
              "      }\n",
              "      const div = document.createElement('div');\n",
              "      const label = document.createElement('label');\n",
              "      label.textContent = `Downloading \"${filename}\": `;\n",
              "      div.appendChild(label);\n",
              "      const progress = document.createElement('progress');\n",
              "      progress.max = size;\n",
              "      div.appendChild(progress);\n",
              "      document.body.appendChild(div);\n",
              "\n",
              "      const buffers = [];\n",
              "      let downloaded = 0;\n",
              "\n",
              "      const channel = await google.colab.kernel.comms.open(id);\n",
              "      // Send a message to notify the kernel that we're ready.\n",
              "      channel.send({})\n",
              "\n",
              "      for await (const message of channel.messages) {\n",
              "        // Send a message to notify the kernel that we're ready.\n",
              "        channel.send({})\n",
              "        if (message.buffers) {\n",
              "          for (const buffer of message.buffers) {\n",
              "            buffers.push(buffer);\n",
              "            downloaded += buffer.byteLength;\n",
              "            progress.value = downloaded;\n",
              "          }\n",
              "        }\n",
              "      }\n",
              "      const blob = new Blob(buffers, {type: 'application/binary'});\n",
              "      const a = document.createElement('a');\n",
              "      a.href = window.URL.createObjectURL(blob);\n",
              "      a.download = filename;\n",
              "      div.appendChild(a);\n",
              "      a.click();\n",
              "      div.remove();\n",
              "    }\n",
              "  "
            ]
          },
          "metadata": {}
        },
        {
          "output_type": "display_data",
          "data": {
            "text/plain": [
              "<IPython.core.display.Javascript object>"
            ],
            "application/javascript": [
              "download(\"download_aa354b4d-db79-4b46-b45b-1e389a7aef56\", \"file.zip\", 4618136)"
            ]
          },
          "metadata": {}
        }
      ]
    }
  ],
  "metadata": {
    "accelerator": "GPU",
    "colab": {
      "provenance": [],
      "gpuType": "T4",
      "authorship_tag": "ABX9TyPXNHcgVFoFxpoNgFEt8X0b",
      "include_colab_link": true
    },
    "kernelspec": {
      "display_name": "Python 3",
      "name": "python3"
    },
    "language_info": {
      "name": "python"
    }
  },
  "nbformat": 4,
  "nbformat_minor": 0
}